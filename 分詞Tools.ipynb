{
  "nbformat": 4,
  "nbformat_minor": 0,
  "metadata": {
    "colab": {
      "name": "Tools.ipynb",
      "provenance": [],
      "authorship_tag": "ABX9TyNHDjrIz+NsjMwREu1TqJbD",
      "include_colab_link": true
    },
    "kernelspec": {
      "name": "python3",
      "display_name": "Python 3"
    },
    "language_info": {
      "name": "python"
    }
  },
  "cells": [
    {
      "cell_type": "markdown",
      "metadata": {
        "id": "view-in-github",
        "colab_type": "text"
      },
      "source": [
        "<a href=\"https://colab.research.google.com/github/sharline1031/github-Serene/blob/main/%E5%88%86%E8%A9%9ETools.ipynb\" target=\"_parent\"><img src=\"https://colab.research.google.com/assets/colab-badge.svg\" alt=\"Open In Colab\"/></a>"
      ]
    },
    {
      "cell_type": "code",
      "execution_count": 2,
      "metadata": {
        "colab": {
          "base_uri": "https://localhost:8080/"
        },
        "id": "0_EF5gTczJe_",
        "outputId": "9dfbf11c-c785-4c98-eddb-806041fb6aef"
      },
      "outputs": [
        {
          "output_type": "stream",
          "name": "stdout",
          "text": [
            "Looking in indexes: https://pypi.org/simple, https://us-python.pkg.dev/colab-wheels/public/simple/\n",
            "Collecting opencc-python-reimplemented\n",
            "  Downloading opencc-python-reimplemented-0.1.6.tar.gz (484 kB)\n",
            "\u001b[K     |████████████████████████████████| 484 kB 5.0 MB/s \n",
            "\u001b[?25hBuilding wheels for collected packages: opencc-python-reimplemented\n",
            "  Building wheel for opencc-python-reimplemented (setup.py) ... \u001b[?25l\u001b[?25hdone\n",
            "  Created wheel for opencc-python-reimplemented: filename=opencc_python_reimplemented-0.1.6-py2.py3-none-any.whl size=486152 sha256=74c2dcce7be6e63686fbcbc624712f928d30243668fa9cffcda04e44afb3feef\n",
            "  Stored in directory: /root/.cache/pip/wheels/4e/e2/60/d062d260be08788bb389521544a8fc173de9a9a78d6a593344\n",
            "Successfully built opencc-python-reimplemented\n",
            "Installing collected packages: opencc-python-reimplemented\n",
            "Successfully installed opencc-python-reimplemented-0.1.6\n"
          ]
        }
      ],
      "source": [
        "!pip install opencc-python-reimplemented"
      ]
    },
    {
      "cell_type": "code",
      "source": [
        "from opencc import OpenCC\n",
        "cc = OpenCC('s2tw')  # convert from Simplified Chinese to Traditional Chinese\n",
        "# can also set conversion by calling set_conversion\n",
        "# cc.set_conversion('s2tw')\n",
        "to_convert = \"\"\"陈水扁提到，吴淑珍吃药后会拉肚子，造成食欲不佳，对于她本就虚弱无力的身体更是雪上加霜，现在连自己推轮椅的力气都没有，说话也听不清楚要用手比画，「整个人好像风中残烛即将熄灭」。\n",
        "陈水扁指出，他拜托医护人员替妻子施打安命活源注射液，并接上高蛋白的艾尔补定注射液，「有好的体力才能对抗新冠病毒，否则病毒还没消灭先被自己打败」。\"\"\"\n",
        "converted = cc.convert(to_convert)\n",
        "converted"
      ],
      "metadata": {
        "colab": {
          "base_uri": "https://localhost:8080/",
          "height": 54
        },
        "id": "xKjGd91q1JOd",
        "outputId": "053a9afc-35c1-42c1-d936-808a53262dd3"
      },
      "execution_count": 7,
      "outputs": [
        {
          "output_type": "execute_result",
          "data": {
            "text/plain": [
              "'陳水扁提到，吳淑珍吃藥後會拉肚子，造成食慾不佳，對於她本就虛弱無力的身體更是雪上加霜，現在連自己推輪椅的力氣都沒有，說話也聽不清楚要用手比畫，「整個人好像風中殘燭即將熄滅」。\\n陳水扁指出，他拜託醫護人員替妻子施打安命活源注射液，並接上高蛋白的艾爾補定注射液，「有好的體力才能對抗新冠病毒，否則病毒還沒消滅先被自己打敗」。'"
            ],
            "application/vnd.google.colaboratory.intrinsic+json": {
              "type": "string"
            }
          },
          "metadata": {},
          "execution_count": 7
        }
      ]
    },
    {
      "cell_type": "code",
      "source": [
        "news = \"\"\"陳水扁提到，吳淑珍吃藥後會拉肚子，造成食慾不佳，對於她本就虛弱無力的身體更是雪上加霜，現在連自己推輪椅的力氣都沒有，說話也聽不清楚要用手比畫，「整個人好像風中殘燭即將熄滅」。\n",
        "陳水扁指出，他拜託醫護人員替妻子施打安命活源注射液，並接上高蛋白的艾爾補定注射液，「有好的體力才能對抗新冠病毒，否則病毒還沒消滅先被自己打敗」。\"\"\""
      ],
      "metadata": {
        "id": "NYfzMfUw7cLY"
      },
      "execution_count": 5,
      "outputs": []
    },
    {
      "cell_type": "code",
      "source": [
        "import jieba.analyse\n",
        "jieba.analyse.extract_tags(news)"
      ],
      "metadata": {
        "colab": {
          "base_uri": "https://localhost:8080/"
        },
        "id": "psIamqMv7p7W",
        "outputId": "487bb7fe-fcb1-40f1-87d0-bf9b61f0802f"
      },
      "execution_count": 6,
      "outputs": [
        {
          "output_type": "stream",
          "name": "stderr",
          "text": [
            "Building prefix dict from the default dictionary ...\n",
            "Dumping model to file cache /tmp/jieba.cache\n",
            "Loading model cost 1.031 seconds.\n",
            "Prefix dict has been built successfully.\n"
          ]
        },
        {
          "output_type": "execute_result",
          "data": {
            "text/plain": [
              "['水扁',\n",
              " '注射液',\n",
              " '病毒',\n",
              " '淑珍',\n",
              " '安命',\n",
              " '藥後會',\n",
              " '虛弱',\n",
              " '無力',\n",
              " '身體',\n",
              " '現在連',\n",
              " '推輪椅',\n",
              " '力氣',\n",
              " '說話',\n",
              " '手比畫',\n",
              " '整個',\n",
              " '風中',\n",
              " '殘燭',\n",
              " '即將',\n",
              " '熄滅',\n",
              " '醫護']"
            ]
          },
          "metadata": {},
          "execution_count": 6
        }
      ]
    }
  ]
}